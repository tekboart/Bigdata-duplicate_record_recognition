{
 "cells": [
  {
   "cell_type": "code",
   "execution_count": 1,
   "metadata": {},
   "outputs": [],
   "source": [
    "import pandas as pd\n",
    "import numpy as np\n",
    "import matplotlib.pyplot as plt\n",
    "import seaborn as sns\n",
    "from functools import reduce\n",
    "\n",
    "# PySpark specific imports\n",
    "from pyspark.sql.functions import col, isnan, when, count, udf\n",
    "from pyspark.ml.feature import Imputer\n",
    "from pyspark.ml.feature import VectorAssembler\n",
    "from pyspark.ml.tuning import ParamGridBuilder, CrossValidator\n",
    "from pyspark.ml.evaluation import RegressionEvaluator\n",
    "from pyspark.ml.evaluation import BinaryClassificationEvaluator\n",
    "from pyspark.mllib.evaluation import MulticlassMetrics\n",
    "\n",
    "# Special version of pandas for spark\n",
    "# from pyspark import pandas as ps\n",
    "# ps.set_option('display.max_rows', 10)\n",
    "\n",
    "# Sklearn\n",
    "from sklearn.metrics import confusion_matrix"
   ]
  },
  {
   "cell_type": "markdown",
   "metadata": {},
   "source": [
    "### Self Defined functions (for code re-usability)\n"
   ]
  },
  {
   "cell_type": "code",
   "execution_count": 2,
   "metadata": {},
   "outputs": [],
   "source": [
    "def union_all(dfs: list):\n",
    "    '''\n",
    "    combines multiple Spark DataFrames in a given list\n",
    "\n",
    "    input: a list of Spark DataFrames\n",
    "    output: a single/unified Spark DataFrames\n",
    "    '''\n",
    "    return reduce(lambda df1, df2: df1.union(df2.select(df1.columns)), dfs)\n",
    "\n",
    "\n",
    "def shape_df(a_spark_dataframe) -> tuple:\n",
    "    '''\n",
    "    input: a Spark data frame\n",
    "    output: shape of the DataFrame (as a tuple of row & col --> (#rows, #cols) )\n",
    "    '''\n",
    "    return (a_spark_dataframe.count(), len(a_spark_dataframe.columns))\n",
    "\n",
    "\n",
    "def cast_col_type(a_spark_df, col_list: list, new_type: str):\n",
    "    ''''\n",
    "    input: \n",
    "        1. a pyspark dataframe (to be used as reference)\n",
    "        2. a list of col names (to convert their value types)\n",
    "        3. new type (to convert values to)\n",
    "            e.g., 'integer', 'float', 'string', 'double', and etc.\n",
    "    output: a DataFrame with the specified col type changed new_type\n",
    "    '''\n",
    "    return a_spark_df.select(\n",
    "        *[c for c in a_spark_df.columns if c not in col_list],\n",
    "        *[col(feat).cast(new_type).alias(feat) for feat in col_list]\n",
    "    )\n",
    "\n",
    "\n",
    "def missing_imputer(df_pyspark, col_list, strategy='mean'):\n",
    "    '''\n",
    "    filling missing values by the defined \"measure of centeral tendency\"\n",
    "    input:\n",
    "        1. a spark's DataFrame\n",
    "        2. a list of cols/feats to be used for imputation\n",
    "        3. the strategy by which missign values are filled\n",
    "            e.g., mean, median, mode, etc.\n",
    "    output: the imputed spark DataFrame\n",
    "    '''\n",
    "    imputer = Imputer(\n",
    "        inputCols=col_list,\n",
    "        outputCols=col_list\n",
    "    ).setStrategy(strategy)\n",
    "    return imputer.fit(df_pyspark).transform(df_pyspark)\n",
    "\n",
    "\n",
    "def balance_dataset(df_pyspark, label_col='label'):\n",
    "    ''' \n",
    "    Re-balancing (weighting) of records in case of imbalanced #labels \n",
    "        * e.g., in healthcare or fraud detection the causes \n",
    "\n",
    "    fromula to calc weight for label j:\n",
    "        w_j = n_recs / (n_labels * n_recs_j)  \n",
    "\n",
    "    input: \n",
    "        1. df_pyspark: a spark DataFrame\n",
    "        2. label_col: the name the label/class col\n",
    "            * note that the labels must be integers (e.g., 0, 1, 2, ...)\n",
    "        3. important_label = the label/class which is the important one\n",
    "\n",
    "    output: a spark DataFrame with an added 'class_weight' to be used for classification\n",
    "        e.g., to be used in the logistic loss objective function\n",
    "    '''\n",
    "    n_recs = df_pyspark.count()\n",
    "    labels = sorted(\n",
    "        list(train.select(label_col).distinct().toPandas()[label_col]))\n",
    "    n_labels = len(labels)\n",
    "\n",
    "    labels_freq = {label: df_pyspark.filter(\n",
    "        df_pyspark[label_col] == label).count() for label in labels}\n",
    "    labels_weights = {\n",
    "        label: (n_recs / (n_labels * labels_freq[label])) for label in labels}\n",
    "\n",
    "    # define a udf (user defined function) to return the weight with respect to the label of each record\n",
    "    assign_weights = udf(lambda x: labels_weights[x])\n",
    "\n",
    "    return df_pyspark.withColumn(\"class_weight\", assign_weights(col('is_match')).cast('double'))\n",
    "\n",
    "\n",
    "def vectorize_feats(df_pyspark, subset: list):\n",
    "    '''\n",
    "    vecorize all the cols/feats provided\n",
    "        * to be used for pyspak.Mlib models\n",
    "\n",
    "    input:\n",
    "        1. df_pyspark: a spark DataFrame\n",
    "        2. subset: the list of columns/feats you want to use for vectorizing\n",
    "\n",
    "    output: a spark DataFrame with col 'features'\n",
    "    '''\n",
    "    assembler = VectorAssembler(\n",
    "        inputCols=[c for c in df_pyspark.columns if c in subset],\n",
    "        outputCol='features'\n",
    "    )\n",
    "\n",
    "    return assembler.transform(df_pyspark)\n",
    "\n",
    "def plot_conf_matrix(predictions, label_col='label', predict_col='prediction'):\n",
    "    '''\n",
    "    plot the confusion matrix for pyspark Mlib classification models\n",
    "\n",
    "    input:\n",
    "        1. predictions: the result of model.transform(data)\n",
    "            e.g., predictions = model.transform(test)\n",
    "        2. label_col: the name of col with true labels\n",
    "        3. predicct_col: the name of col with predicted labels\n",
    "    '''\n",
    "    labels_list = list(predictions.select(label_col).toPandas()[label_col])\n",
    "    predict_list = list(predictions.select(predict_col).toPandas()[predict_col])\n",
    "    conf_matrix = confusion_matrix(labels_list, predict_list, labels=[0, 1], normalize='true')\n",
    "\n",
    "    fig, ax = plt.subplots(figsize=(7, 5))\n",
    "    label_font_size = 14\n",
    "    plt.title(f'The confusion matrix', fontsize=label_font_size)\n",
    "    ax = sns.heatmap(conf_matrix, annot=True, fmt='.4%', cmap='Blues', ax=ax)\n",
    "    ax.set_ylabel('True Labels', fontsize=label_font_size)\n",
    "    ax.set_xlabel('Predicted Labels', fontsize=label_font_size)\n",
    "    plt.show()\n",
    "\n",
    "def model_test_and_eval(model, df, label_col='label', predict_col='prediction'):\n",
    "    '''\n",
    "    test & evaluate a pyspark Mlib model with train & test sets\n",
    "\n",
    "    input:\n",
    "        1. model: a Spark Mlib classification model (instantiated)\n",
    "        2. df: a Spark DataFrame\n",
    "            e.g., train or test set\n",
    "        3. label_col: the name of col with true labels\n",
    "        4. predicct_col: the name of col with predicted labels\n",
    "    '''\n",
    "    predictions = model.transform(df)\n",
    "\n",
    "    # plot the confussion matrix\n",
    "    plot_conf_matrix(predictions, label_col=label_col, predict_col=predict_col)\n",
    "\n",
    "    ## evaluate the Model based on some metrics\n",
    "    # report the Accuracy of the model\n",
    "    accuracy = predictions.filter( predictions.label == predictions.prediction).count() / float(predictions.count())\n",
    "\n",
    "    # Report AUC (Area Under ROC curve)\n",
    "    evaluator = BinaryClassificationEvaluator(labelCol=label_col)\n",
    "    auc = evaluator.evaluate(predictions)\n",
    "\n",
    "    # cast the 'label' to 'float', as it is needed for MultiClassMetrics\n",
    "    predictions = cast_col_type(predictions, col_list=[label_col], new_type='float')\n",
    "    # define an RDD of (prediction, lables) pairs to calc metrics\n",
    "    prediction_and_labels = predictions.select(predict_col, label_col).rdd\n",
    "    # print(train_prediction_and_labels.collect())\n",
    "\n",
    "    # create multiclass metrics, based on the RDD we created\n",
    "    metrics = MulticlassMetrics(prediction_and_labels)\n",
    "    precision = metrics.precision(1.0)\n",
    "    recall = metrics.recall(1.0)\n",
    "    f_measure = metrics.fMeasure(1.0, 1.0)\n",
    "\n",
    "    # Create a Pandas DataFrame to store evaluation metrics\n",
    "    df_eval_metrics = pd.DataFrame({'accuracy': [accuracy], \n",
    "                                    'AUC': [auc], \n",
    "                                    'precision': [precision],\n",
    "                                    'recall': [recall], \n",
    "                                    'F-measure': [f_measure]})\n",
    "    return df_eval_metrics"
   ]
  },
  {
   "cell_type": "code",
   "execution_count": 3,
   "metadata": {},
   "outputs": [
    {
     "name": "stderr",
     "output_type": "stream",
     "text": [
      "WARNING: An illegal reflective access operation has occurred\n",
      "WARNING: Illegal reflective access by org.apache.spark.unsafe.Platform (file:/opt/spark-3.2.0-bin-hadoop3.2/jars/spark-unsafe_2.12-3.2.0.jar) to constructor java.nio.DirectByteBuffer(long,int)\n",
      "WARNING: Please consider reporting this to the maintainers of org.apache.spark.unsafe.Platform\n",
      "WARNING: Use --illegal-access=warn to enable warnings of further illegal reflective access operations\n",
      "WARNING: All illegal access operations will be denied in a future release\n",
      "Using Spark's default log4j profile: org/apache/spark/log4j-defaults.properties\n",
      "Setting default log level to \"WARN\".\n",
      "To adjust logging level use sc.setLogLevel(newLevel). For SparkR, use setLogLevel(newLevel).\n",
      "22/03/06 00:41:10 WARN NativeCodeLoader: Unable to load native-hadoop library for your platform... using builtin-java classes where applicable\n"
     ]
    },
    {
     "data": {
      "text/html": [
       "\n",
       "            <div>\n",
       "                <p><b>SparkSession - in-memory</b></p>\n",
       "                \n",
       "        <div>\n",
       "            <p><b>SparkContext</b></p>\n",
       "\n",
       "            <p><a href=\"http://localhost:4040\">Spark UI</a></p>\n",
       "\n",
       "            <dl>\n",
       "              <dt>Version</dt>\n",
       "                <dd><code>v3.2.0</code></dd>\n",
       "              <dt>Master</dt>\n",
       "                <dd><code>local[*]</code></dd>\n",
       "              <dt>AppName</dt>\n",
       "                <dd><code>bigdata_final_project_preprocessing</code></dd>\n",
       "            </dl>\n",
       "        </div>\n",
       "        \n",
       "            </div>\n",
       "        "
      ],
      "text/plain": [
       "<pyspark.sql.session.SparkSession at 0x7f5655195e50>"
      ]
     },
     "execution_count": 3,
     "metadata": {},
     "output_type": "execute_result"
    }
   ],
   "source": [
    "from pyspark.sql import SparkSession\n",
    "spark = SparkSession.builder.appName('bigdata_final_logistic_regression').getOrCreate()\n",
    "spark"
   ]
  },
  {
   "cell_type": "markdown",
   "metadata": {},
   "source": [
    "#### import train and test sets\n"
   ]
  },
  {
   "cell_type": "code",
   "execution_count": 4,
   "metadata": {},
   "outputs": [
    {
     "name": "stderr",
     "output_type": "stream",
     "text": [
      "                                                                                \r"
     ]
    },
    {
     "name": "stdout",
     "output_type": "stream",
     "text": [
      "+----+-----+-----------------+------------------+-------+------+------+------+-------+--------+------------------+\n",
      "|id_1| id_2|     cmp_fname_c1|      cmp_lname_c1|cmp_sex|cmp_bd|cmp_bm|cmp_by|cmp_plz|is_match|      class_weight|\n",
      "+----+-----+-----------------+------------------+-------+------+------+------+-------+--------+------------------+\n",
      "|   2|78418|              1.0|               0.5|      1|     0|     0|     1|      0|       0|0.5018338429974938|\n",
      "|   5|46062|0.222222222222222|               1.0|      1|     0|     1|     0|      0|       0|0.5018338429974938|\n",
      "|   6|45145|              1.0| 0.222222222222222|      1|     0|     1|     0|      0|       0|0.5018338429974938|\n",
      "|   6|51814|              1.0| 0.166666666666667|      0|     1|     0|     0|      0|       0|0.5018338429974938|\n",
      "|   7|76887|              1.0|               0.2|      1|     0|     0|     1|      0|       0|0.5018338429974938|\n",
      "|   8|11109|              1.0|               0.0|      1|     0|     1|     0|      0|       0|0.5018338429974938|\n",
      "|  10|12081|              1.0| 0.111111111111111|      1|     1|     0|     0|      0|       0|0.5018338429974938|\n",
      "|  10|18840|              1.0|0.0769230769230769|      1|     1|     0|     0|      0|       0|0.5018338429974938|\n",
      "|  10|50307|              0.0| 0.285714285714286|      1|     0|     0|     0|      0|       0|0.5018338429974938|\n",
      "|  11| 2800|              1.0|             0.125|      1|     1|     1|     0|      0|       0|0.5018338429974938|\n",
      "|  11|18771|              0.4|             0.125|      0|     0|     0|     1|      0|       0|0.5018338429974938|\n",
      "|  11|52065|              1.0|              0.25|      0|     0|     1|     0|      0|       0|0.5018338429974938|\n",
      "|  12|53294|              1.0| 0.222222222222222|      1|     0|     1|     0|      0|       0|0.5018338429974938|\n",
      "|  14|95329|0.142857142857143|               1.0|      1|     0|     0|     0|      0|       0|0.5018338429974938|\n",
      "|  18|51329|              1.0| 0.166666666666667|      1|     0|     1|     0|      0|       0|0.5018338429974938|\n",
      "|  18|92932|              1.0|             0.125|      1|     0|     0|     1|      0|       0|0.5018338429974938|\n",
      "|  19|53738|              1.0|             0.375|      1|     0|     1|     0|      0|       0|0.5018338429974938|\n",
      "|  21|22765|              0.4|               0.0|      1|     1|     0|     0|      0|       0|0.5018338429974938|\n",
      "|  21|41956|              0.4|               0.0|      1|     0|     1|     0|      0|       0|0.5018338429974938|\n",
      "|  21|56914|              1.0|               0.0|      1|     0|     1|     0|      0|       0|0.5018338429974938|\n",
      "+----+-----+-----------------+------------------+-------+------+------+------+-------+--------+------------------+\n",
      "only showing top 20 rows\n",
      "\n"
     ]
    },
    {
     "name": "stderr",
     "output_type": "stream",
     "text": [
      "                                                                                \r"
     ]
    },
    {
     "name": "stdout",
     "output_type": "stream",
     "text": [
      "+----+-----+-----------------+-----------------+-------+------+------+------+-------+--------+------------------+\n",
      "|id_1| id_2|     cmp_fname_c1|     cmp_lname_c1|cmp_sex|cmp_bd|cmp_bm|cmp_by|cmp_plz|is_match|      class_weight|\n",
      "+----+-----+-----------------+-----------------+-------+------+------+------+-------+--------+------------------+\n",
      "|   5|    6|              1.0|              1.0|      1|     1|     1|     1|      1|       1| 138.6079865016873|\n",
      "|  18|69293|              1.0|              0.0|      1|     0|     1|     0|      0|       0|0.5018101777191354|\n",
      "|  19| 1961|0.222222222222222|0.555555555555556|      1|     1|     1|     1|      0|       0|0.5018101777191354|\n",
      "|  19|78044|0.222222222222222|             0.25|      0|     1|     1|     1|      0|       0|0.5018101777191354|\n",
      "|  21|86148|              0.4|             0.25|      1|     0|     1|     0|      0|       0|0.5018101777191354|\n",
      "|  26|46196|0.333333333333333|              0.5|      1|     0|     0|     0|      0|       0|0.5018101777191354|\n",
      "|  30|92604|              1.0|              1.0|      1|     0|     0|     0|      0|       0|0.5018101777191354|\n",
      "|  31|66720|              1.0|              0.2|      1|     1|     0|     0|      0|       0|0.5018101777191354|\n",
      "|  39|17763|              1.0|              0.0|      1|     0|     1|     0|      0|       0|0.5018101777191354|\n",
      "|  41|19444|              1.0|0.428571428571429|      1|     0|     1|     0|      0|       0|0.5018101777191354|\n",
      "|  46|94234|              1.0|              0.0|      1|     0|     1|     0|      0|       0|0.5018101777191354|\n",
      "|  47| 1050|              1.0|             0.25|      1|     0|     0|     1|      0|       0|0.5018101777191354|\n",
      "|  49|14401|0.142857142857143|              0.4|      1|     0|     0|     0|      0|       0|0.5018101777191354|\n",
      "|  49|78342|              0.0|              0.8|      1|     0|     0|     0|      0|       0|0.5018101777191354|\n",
      "|  49|87587|              1.0|              0.0|      1|     0|     1|     0|      0|       0|0.5018101777191354|\n",
      "|  50|84013|              1.0|             0.25|      1|     0|     1|     0|      0|       0|0.5018101777191354|\n",
      "|  55|86490|0.166666666666667|              1.0|      1|     0|     0|     0|      0|       0|0.5018101777191354|\n",
      "|  57|45401|              1.0|0.142857142857143|      1|     0|     1|     0|      0|       0|0.5018101777191354|\n",
      "|  57|53540|              0.8|0.111111111111111|      1|     0|     1|     0|      0|       0|0.5018101777191354|\n",
      "|  57|79388|              1.0|0.166666666666667|      1|     0|     1|     0|      0|       0|0.5018101777191354|\n",
      "+----+-----+-----------------+-----------------+-------+------+------+------+-------+--------+------------------+\n",
      "only showing top 20 rows\n",
      "\n"
     ]
    }
   ],
   "source": [
    "train_class_weight = spark.read.csv('./train_final.csv', header=True, inferSchema=True)\n",
    "train_class_weight.show()\n",
    "\n",
    "test_class_weight = spark.read.csv('./test_final.csv', header=True, inferSchema=True)\n",
    "test_class_weight.show()"
   ]
  },
  {
   "cell_type": "markdown",
   "metadata": {},
   "source": [
    "### Vectorize the feats (to be used by classifier models)\n"
   ]
  },
  {
   "cell_type": "code",
   "execution_count": 5,
   "metadata": {},
   "outputs": [
    {
     "name": "stdout",
     "output_type": "stream",
     "text": [
      "+----+-----+-----------------+------------------+-------+------+------+------+-------+--------+------------------+--------------------+\n",
      "|id_1| id_2|     cmp_fname_c1|      cmp_lname_c1|cmp_sex|cmp_bd|cmp_bm|cmp_by|cmp_plz|is_match|      class_weight|            features|\n",
      "+----+-----+-----------------+------------------+-------+------+------+------+-------+--------+------------------+--------------------+\n",
      "|   2|78418|              1.0|               0.5|      1|     0|     0|     1|      0|       0|0.5018338429974938|[1.0,0.5,1.0,0.0,...|\n",
      "|   5|46062|0.222222222222222|               1.0|      1|     0|     1|     0|      0|       0|0.5018338429974938|[0.22222222222222...|\n",
      "|   6|45145|              1.0| 0.222222222222222|      1|     0|     1|     0|      0|       0|0.5018338429974938|[1.0,0.2222222222...|\n",
      "|   6|51814|              1.0| 0.166666666666667|      0|     1|     0|     0|      0|       0|0.5018338429974938|(7,[0,1,3],[1.0,0...|\n",
      "|   7|76887|              1.0|               0.2|      1|     0|     0|     1|      0|       0|0.5018338429974938|[1.0,0.2,1.0,0.0,...|\n",
      "|   8|11109|              1.0|               0.0|      1|     0|     1|     0|      0|       0|0.5018338429974938|(7,[0,2,4],[1.0,1...|\n",
      "|  10|12081|              1.0| 0.111111111111111|      1|     1|     0|     0|      0|       0|0.5018338429974938|[1.0,0.1111111111...|\n",
      "|  10|18840|              1.0|0.0769230769230769|      1|     1|     0|     0|      0|       0|0.5018338429974938|[1.0,0.0769230769...|\n",
      "|  10|50307|              0.0| 0.285714285714286|      1|     0|     0|     0|      0|       0|0.5018338429974938|(7,[1,2],[0.28571...|\n",
      "|  11| 2800|              1.0|             0.125|      1|     1|     1|     0|      0|       0|0.5018338429974938|[1.0,0.125,1.0,1....|\n",
      "|  11|18771|              0.4|             0.125|      0|     0|     0|     1|      0|       0|0.5018338429974938|(7,[0,1,5],[0.4,0...|\n",
      "|  11|52065|              1.0|              0.25|      0|     0|     1|     0|      0|       0|0.5018338429974938|(7,[0,1,4],[1.0,0...|\n",
      "|  12|53294|              1.0| 0.222222222222222|      1|     0|     1|     0|      0|       0|0.5018338429974938|[1.0,0.2222222222...|\n",
      "|  14|95329|0.142857142857143|               1.0|      1|     0|     0|     0|      0|       0|0.5018338429974938|(7,[0,1,2],[0.142...|\n",
      "|  18|51329|              1.0| 0.166666666666667|      1|     0|     1|     0|      0|       0|0.5018338429974938|[1.0,0.1666666666...|\n",
      "|  18|92932|              1.0|             0.125|      1|     0|     0|     1|      0|       0|0.5018338429974938|[1.0,0.125,1.0,0....|\n",
      "|  19|53738|              1.0|             0.375|      1|     0|     1|     0|      0|       0|0.5018338429974938|[1.0,0.375,1.0,0....|\n",
      "|  21|22765|              0.4|               0.0|      1|     1|     0|     0|      0|       0|0.5018338429974938|(7,[0,2,3],[0.4,1...|\n",
      "|  21|41956|              0.4|               0.0|      1|     0|     1|     0|      0|       0|0.5018338429974938|(7,[0,2,4],[0.4,1...|\n",
      "|  21|56914|              1.0|               0.0|      1|     0|     1|     0|      0|       0|0.5018338429974938|(7,[0,2,4],[1.0,1...|\n",
      "+----+-----+-----------------+------------------+-------+------+------+------+-------+--------+------------------+--------------------+\n",
      "only showing top 20 rows\n",
      "\n",
      "+----+-----+-----------------+-----------------+-------+------+------+------+-------+--------+------------------+--------------------+\n",
      "|id_1| id_2|     cmp_fname_c1|     cmp_lname_c1|cmp_sex|cmp_bd|cmp_bm|cmp_by|cmp_plz|is_match|      class_weight|            features|\n",
      "+----+-----+-----------------+-----------------+-------+------+------+------+-------+--------+------------------+--------------------+\n",
      "|   5|    6|              1.0|              1.0|      1|     1|     1|     1|      1|       1| 138.6079865016873|[1.0,1.0,1.0,1.0,...|\n",
      "|  18|69293|              1.0|              0.0|      1|     0|     1|     0|      0|       0|0.5018101777191354|(7,[0,2,4],[1.0,1...|\n",
      "|  19| 1961|0.222222222222222|0.555555555555556|      1|     1|     1|     1|      0|       0|0.5018101777191354|[0.22222222222222...|\n",
      "|  19|78044|0.222222222222222|             0.25|      0|     1|     1|     1|      0|       0|0.5018101777191354|[0.22222222222222...|\n",
      "|  21|86148|              0.4|             0.25|      1|     0|     1|     0|      0|       0|0.5018101777191354|[0.4,0.25,1.0,0.0...|\n",
      "|  26|46196|0.333333333333333|              0.5|      1|     0|     0|     0|      0|       0|0.5018101777191354|(7,[0,1,2],[0.333...|\n",
      "|  30|92604|              1.0|              1.0|      1|     0|     0|     0|      0|       0|0.5018101777191354|(7,[0,1,2],[1.0,1...|\n",
      "|  31|66720|              1.0|              0.2|      1|     1|     0|     0|      0|       0|0.5018101777191354|[1.0,0.2,1.0,1.0,...|\n",
      "|  39|17763|              1.0|              0.0|      1|     0|     1|     0|      0|       0|0.5018101777191354|(7,[0,2,4],[1.0,1...|\n",
      "|  41|19444|              1.0|0.428571428571429|      1|     0|     1|     0|      0|       0|0.5018101777191354|[1.0,0.4285714285...|\n",
      "|  46|94234|              1.0|              0.0|      1|     0|     1|     0|      0|       0|0.5018101777191354|(7,[0,2,4],[1.0,1...|\n",
      "|  47| 1050|              1.0|             0.25|      1|     0|     0|     1|      0|       0|0.5018101777191354|[1.0,0.25,1.0,0.0...|\n",
      "|  49|14401|0.142857142857143|              0.4|      1|     0|     0|     0|      0|       0|0.5018101777191354|(7,[0,1,2],[0.142...|\n",
      "|  49|78342|              0.0|              0.8|      1|     0|     0|     0|      0|       0|0.5018101777191354| (7,[1,2],[0.8,1.0])|\n",
      "|  49|87587|              1.0|              0.0|      1|     0|     1|     0|      0|       0|0.5018101777191354|(7,[0,2,4],[1.0,1...|\n",
      "|  50|84013|              1.0|             0.25|      1|     0|     1|     0|      0|       0|0.5018101777191354|[1.0,0.25,1.0,0.0...|\n",
      "|  55|86490|0.166666666666667|              1.0|      1|     0|     0|     0|      0|       0|0.5018101777191354|(7,[0,1,2],[0.166...|\n",
      "|  57|45401|              1.0|0.142857142857143|      1|     0|     1|     0|      0|       0|0.5018101777191354|[1.0,0.1428571428...|\n",
      "|  57|53540|              0.8|0.111111111111111|      1|     0|     1|     0|      0|       0|0.5018101777191354|[0.8,0.1111111111...|\n",
      "|  57|79388|              1.0|0.166666666666667|      1|     0|     1|     0|      0|       0|0.5018101777191354|[1.0,0.1666666666...|\n",
      "+----+-----+-----------------+-----------------+-------+------+------+------+-------+--------+------------------+--------------------+\n",
      "only showing top 20 rows\n",
      "\n"
     ]
    }
   ],
   "source": [
    "cols_to_vectorize = ['cmp_fname_c1', 'cmp_lname_c1', 'cmp_sex', 'cmp_bd', 'cmp_bm', 'cmp_by', 'cmp_plz']\n",
    "\n",
    "train_vectored_feats = vectorize_feats(train_class_weight, subset=cols_to_vectorize)\n",
    "train_vectored_feats.show()\n",
    "\n",
    "test_vectored_feats = vectorize_feats(test_class_weight, subset=cols_to_vectorize)\n",
    "test_vectored_feats.show()"
   ]
  },
  {
   "cell_type": "markdown",
   "metadata": {},
   "source": [
    "### Clean train and test datasets\n",
    "\n",
    "> to be used in Spark's Mlib model, later on.\n"
   ]
  },
  {
   "cell_type": "code",
   "execution_count": 6,
   "metadata": {},
   "outputs": [
    {
     "name": "stdout",
     "output_type": "stream",
     "text": [
      "+----+-----+--------------------+------------------+-----+\n",
      "|id_1| id_2|            features|      class_weight|label|\n",
      "+----+-----+--------------------+------------------+-----+\n",
      "|   2|78418|[1.0,0.5,1.0,0.0,...|0.5018338429974938|    0|\n",
      "|   5|46062|[0.22222222222222...|0.5018338429974938|    0|\n",
      "|   6|45145|[1.0,0.2222222222...|0.5018338429974938|    0|\n",
      "|   6|51814|(7,[0,1,3],[1.0,0...|0.5018338429974938|    0|\n",
      "|   7|76887|[1.0,0.2,1.0,0.0,...|0.5018338429974938|    0|\n",
      "|   8|11109|(7,[0,2,4],[1.0,1...|0.5018338429974938|    0|\n",
      "|  10|12081|[1.0,0.1111111111...|0.5018338429974938|    0|\n",
      "|  10|18840|[1.0,0.0769230769...|0.5018338429974938|    0|\n",
      "|  10|50307|(7,[1,2],[0.28571...|0.5018338429974938|    0|\n",
      "|  11| 2800|[1.0,0.125,1.0,1....|0.5018338429974938|    0|\n",
      "|  11|18771|(7,[0,1,5],[0.4,0...|0.5018338429974938|    0|\n",
      "|  11|52065|(7,[0,1,4],[1.0,0...|0.5018338429974938|    0|\n",
      "|  12|53294|[1.0,0.2222222222...|0.5018338429974938|    0|\n",
      "|  14|95329|(7,[0,1,2],[0.142...|0.5018338429974938|    0|\n",
      "|  18|51329|[1.0,0.1666666666...|0.5018338429974938|    0|\n",
      "|  18|92932|[1.0,0.125,1.0,0....|0.5018338429974938|    0|\n",
      "|  19|53738|[1.0,0.375,1.0,0....|0.5018338429974938|    0|\n",
      "|  21|22765|(7,[0,2,3],[0.4,1...|0.5018338429974938|    0|\n",
      "|  21|41956|(7,[0,2,4],[0.4,1...|0.5018338429974938|    0|\n",
      "|  21|56914|(7,[0,2,4],[1.0,1...|0.5018338429974938|    0|\n",
      "+----+-----+--------------------+------------------+-----+\n",
      "only showing top 20 rows\n",
      "\n",
      "+----+-----+--------------------+------------------+-----+\n",
      "|id_1| id_2|            features|      class_weight|label|\n",
      "+----+-----+--------------------+------------------+-----+\n",
      "|   5|    6|[1.0,1.0,1.0,1.0,...| 138.6079865016873|    1|\n",
      "|  18|69293|(7,[0,2,4],[1.0,1...|0.5018101777191354|    0|\n",
      "|  19| 1961|[0.22222222222222...|0.5018101777191354|    0|\n",
      "|  19|78044|[0.22222222222222...|0.5018101777191354|    0|\n",
      "|  21|86148|[0.4,0.25,1.0,0.0...|0.5018101777191354|    0|\n",
      "|  26|46196|(7,[0,1,2],[0.333...|0.5018101777191354|    0|\n",
      "|  30|92604|(7,[0,1,2],[1.0,1...|0.5018101777191354|    0|\n",
      "|  31|66720|[1.0,0.2,1.0,1.0,...|0.5018101777191354|    0|\n",
      "|  39|17763|(7,[0,2,4],[1.0,1...|0.5018101777191354|    0|\n",
      "|  41|19444|[1.0,0.4285714285...|0.5018101777191354|    0|\n",
      "|  46|94234|(7,[0,2,4],[1.0,1...|0.5018101777191354|    0|\n",
      "|  47| 1050|[1.0,0.25,1.0,0.0...|0.5018101777191354|    0|\n",
      "|  49|14401|(7,[0,1,2],[0.142...|0.5018101777191354|    0|\n",
      "|  49|78342| (7,[1,2],[0.8,1.0])|0.5018101777191354|    0|\n",
      "|  49|87587|(7,[0,2,4],[1.0,1...|0.5018101777191354|    0|\n",
      "|  50|84013|[1.0,0.25,1.0,0.0...|0.5018101777191354|    0|\n",
      "|  55|86490|(7,[0,1,2],[0.166...|0.5018101777191354|    0|\n",
      "|  57|45401|[1.0,0.1428571428...|0.5018101777191354|    0|\n",
      "|  57|53540|[0.8,0.1111111111...|0.5018101777191354|    0|\n",
      "|  57|79388|[1.0,0.1666666666...|0.5018101777191354|    0|\n",
      "+----+-----+--------------------+------------------+-----+\n",
      "only showing top 20 rows\n",
      "\n"
     ]
    }
   ],
   "source": [
    "# as we have created the features col no need the old cols now\n",
    "cols_to_drop = ['cmp_fname_c1', 'cmp_lname_c1', 'cmp_sex', 'cmp_bd', 'cmp_bm', 'cmp_by', 'cmp_plz']\n",
    "\n",
    "train_final_1 = train_vectored_feats.drop(*cols_to_drop)\n",
    "# change the name of class/label col to cannonical 'label'\n",
    "train_final_2 = train_final_1.withColumnRenamed('is_match', 'label')\n",
    "# re-order the columns (for clarity)\n",
    "train = train_final_2.select(['id_1', 'id_2', 'features', 'class_weight', 'label'])\n",
    "train.show()\n",
    "\n",
    "test_final_1 = test_vectored_feats.drop(*cols_to_drop)\n",
    "# change the name of class/label col to cannonical 'label'\n",
    "test_final_2 = test_final_1.withColumnRenamed('is_match', 'label')\n",
    "# re-order the columns (for clarity)\n",
    "test = test_final_2.select(['id_1', 'id_2', 'features', 'class_weight', 'label'])\n",
    "test.show()"
   ]
  },
  {
   "cell_type": "markdown",
   "metadata": {},
   "source": [
    "### Classification by Logistic Regression\n",
    "\n",
    "- instantiate a dummy model\n",
    "- use Grid Search + cross validation to find the best hyper parameters\n",
    "- create the model with the best hyper parameters\n",
    "- train it\n",
    "- evaluate it by confusion matrix and evaluation metrics, such as accuracy, AUC and F-measure\n",
    "- fine tune if needed\n"
   ]
  },
  {
   "cell_type": "code",
   "execution_count": 7,
   "metadata": {},
   "outputs": [],
   "source": [
    "from pyspark.ml.classification import LogisticRegression\n",
    "\n",
    "# instantiate a Logistic Regression model with default hyper parametrs\n",
    "# just to be used in cross validation\n",
    "lr = LogisticRegression(featuresCol='features',\n",
    "                        weightCol='class_weight',\n",
    "                        labelCol='label',\n",
    "                        maxIter=5)"
   ]
  },
  {
   "cell_type": "markdown",
   "metadata": {},
   "source": [
    "### Use Grid Search and Cross Validation to find the best parameters to train on"
   ]
  },
  {
   "cell_type": "code",
   "execution_count": 15,
   "metadata": {},
   "outputs": [],
   "source": [
    "param_grid = ParamGridBuilder()\\\n",
    "    .addGrid(lr.regParam, [0.01, 0.5, 2.0])\\\n",
    "    .addGrid(lr.elasticNetParam, [0.0, 0.5, 1.0])\\\n",
    "    .addGrid(lr.maxIter, [1, 5, 10])\\\n",
    "    .build()\n",
    "\n",
    "cv = CrossValidator(estimator=lr, estimatorParamMaps=param_grid, evaluator=RegressionEvaluator(), numFolds=5)\n",
    "\n",
    "# train the model (using crossvalidation & Grid method)\n",
    "cv_model = cv.fit(train)"
   ]
  },
  {
   "cell_type": "markdown",
   "metadata": {},
   "source": [
    "#### print the best model's hyper parameters (founded by cross validation)"
   ]
  },
  {
   "cell_type": "code",
   "execution_count": 17,
   "metadata": {},
   "outputs": [
    {
     "name": "stdout",
     "output_type": "stream",
     "text": [
      "Best Param (regParam): 0.01\n",
      "Best Param (elasticNetParam): 0.5\n",
      "Best Param (maxIter): 10\n"
     ]
    }
   ],
   "source": [
    "best_model = cv_model.bestModel\n",
    "print('Best Param (regParam):', best_model._java_obj.getRegParam())\n",
    "print('Best Param (elasticNetParam):', best_model._java_obj.getElasticNetParam())\n",
    "print('Best Param (maxIter):', best_model._java_obj.getMaxIter())"
   ]
  },
  {
   "cell_type": "markdown",
   "metadata": {},
   "source": [
    "#### train a model with the best found parameters (by Grid Search + cross validation)"
   ]
  },
  {
   "cell_type": "code",
   "execution_count": 8,
   "metadata": {},
   "outputs": [
    {
     "name": "stderr",
     "output_type": "stream",
     "text": [
      "                                                                                \r"
     ]
    }
   ],
   "source": [
    "# create & train the model with Grid Search found params\n",
    "lr = LogisticRegression(featuresCol='features',\n",
    "                        weightCol='class_weight',\n",
    "                        labelCol='label',\n",
    "                        regParam=0.01,\n",
    "                        elasticNetParam=0.5,\n",
    "                        maxIter=10)\n",
    "\n",
    "# train the model\n",
    "model = lr.fit(train)"
   ]
  },
  {
   "cell_type": "markdown",
   "metadata": {},
   "source": [
    "#### evaluate the model (by both the train and test sets)\n",
    "#### * to check for overfitting\n",
    "- by confusion matrix\n",
    "- evaluation metrics, namely accuracy, AUC, precision, recall and F-measure."
   ]
  },
  {
   "cell_type": "code",
   "execution_count": 9,
   "metadata": {},
   "outputs": [
    {
     "name": "stdout",
     "output_type": "stream",
     "text": [
      "-----------------------evaluate the model with train set-----------------------\n"
     ]
    },
    {
     "name": "stderr",
     "output_type": "stream",
     "text": [
      "                                                                                \r"
     ]
    },
    {
     "data": {
      "image/png": "[encoded data removed]",
      "text/plain": [
       "<Figure size 504x360 with 2 Axes>"
      ]
     },
     "metadata": {
      "needs_background": "light"
     },
     "output_type": "display_data"
    },
    {
     "name": "stderr",
     "output_type": "stream",
     "text": [
      "/opt/spark-3.2.0-bin-hadoop3.2/python/lib/pyspark.zip/pyspark/sql/context.py:125: FutureWarning: Deprecated in 3.0.0. Use SparkSession.builder.getOrCreate() instead.\n",
      "                                                                                \r"
     ]
    },
    {
     "name": "stdout",
     "output_type": "stream",
     "text": [
      "------------------------evaluate the model with test set-----------------------\n"
     ]
    },
    {
     "name": "stderr",
     "output_type": "stream",
     "text": [
      "                                                                                \r"
     ]
    },
    {
     "data": {
      "image/png": "[encoded data removed]",
      "text/plain": [
       "<Figure size 504x360 with 2 Axes>"
      ]
     },
     "metadata": {
      "needs_background": "light"
     },
     "output_type": "display_data"
    },
    {
     "name": "stderr",
     "output_type": "stream",
     "text": [
      "/opt/spark-3.2.0-bin-hadoop3.2/python/lib/pyspark.zip/pyspark/sql/context.py:125: FutureWarning: Deprecated in 3.0.0. Use SparkSession.builder.getOrCreate() instead.\n",
      "                                                                                \r"
     ]
    },
    {
     "data": {
      "text/html": [
       "<div>\n",
       "<style scoped>\n",
       "    .dataframe tbody tr th:only-of-type {\n",
       "        vertical-align: middle;\n",
       "    }\n",
       "\n",
       "    .dataframe tbody tr th {\n",
       "        vertical-align: top;\n",
       "    }\n",
       "\n",
       "    .dataframe thead th {\n",
       "        text-align: right;\n",
       "    }\n",
       "</style>\n",
       "<table border=\"1\" class=\"dataframe\">\n",
       "  <thead>\n",
       "    <tr style=\"text-align: right;\">\n",
       "      <th></th>\n",
       "      <th>accuracy</th>\n",
       "      <th>AUC</th>\n",
       "      <th>precision</th>\n",
       "      <th>recall</th>\n",
       "      <th>F-measure</th>\n",
       "    </tr>\n",
       "  </thead>\n",
       "  <tbody>\n",
       "    <tr>\n",
       "      <th>train</th>\n",
       "      <td>0.999902</td>\n",
       "      <td>0.999999</td>\n",
       "      <td>0.974657</td>\n",
       "      <td>0.999252</td>\n",
       "      <td>0.986801</td>\n",
       "    </tr>\n",
       "    <tr>\n",
       "      <th>test</th>\n",
       "      <td>0.999901</td>\n",
       "      <td>0.999999</td>\n",
       "      <td>0.974002</td>\n",
       "      <td>0.999357</td>\n",
       "      <td>0.986516</td>\n",
       "    </tr>\n",
       "  </tbody>\n",
       "</table>\n",
       "</div>"
      ],
      "text/plain": [
       "       accuracy       AUC  precision    recall  F-measure\n",
       "train  0.999902  0.999999   0.974657  0.999252   0.986801\n",
       "test   0.999901  0.999999   0.974002  0.999357   0.986516"
      ]
     },
     "metadata": {},
     "output_type": "display_data"
    }
   ],
   "source": [
    "# create a dummy Pandas DF to fill with evaluation metrics later on.\n",
    "df_eval_metrics = pd.DataFrame(columns=['accuracy', 'AUC', 'precision', 'recall', 'F-measure'])\n",
    "\n",
    "# evaluate the model with train set\n",
    "print('evaluate the model with train set'.center(79, \"-\"))\n",
    "df_eval_metrics = df_eval_metrics.append(model_test_and_eval(model, train))\n",
    "\n",
    "# evaluate the model with test set\n",
    "print('evaluate the model with test set'.center(79, \"-\"))\n",
    "df_eval_metrics = df_eval_metrics.append(model_test_and_eval(model, test))\n",
    "\n",
    "# set the indeces to train & test, so we can recognize them\n",
    "df_eval_metrics.reset_index(drop=True, inplace=True)\n",
    "df_eval_metrics.rename({0: 'train', 1: 'test'}, inplace=True)\n",
    "display(df_eval_metrics)"
   ]
  },
  {
   "cell_type": "code",
   "execution_count": null,
   "metadata": {},
   "outputs": [],
   "source": []
  }
 ],
 "metadata": {
  "interpreter": {
   "hash": "4144e2bab33b6225c78db28ef94e40b91b0c1b8aa9b4a664bbe5505e57e3ae7d"
  },
  "kernelspec": {
   "display_name": "Python 3.9.9 64-bit ('3.9.9')",
   "language": "python",
   "name": "python3"
  },
  "language_info": {
   "codemirror_mode": {
    "name": "ipython",
    "version": 3
   },
   "file_extension": ".py",
   "mimetype": "text/x-python",
   "name": "python",
   "nbconvert_exporter": "python",
   "pygments_lexer": "ipython3",
   "version": "3.9.9"
  },
  "orig_nbformat": 4
 },
 "nbformat": 4,
 "nbformat_minor": 2
}
